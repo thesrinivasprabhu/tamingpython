{
 "cells": [
  {
   "cell_type": "markdown",
   "metadata": {},
   "source": [
    "# Python programming language\n",
    "## The first topic is a simple hello world programme. Using a simple print function this is implemented."
   ]
  },
  {
   "cell_type": "code",
   "execution_count": 1,
   "metadata": {},
   "outputs": [
    {
     "name": "stdout",
     "output_type": "stream",
     "text": [
      "Hello world\n"
     ]
    }
   ],
   "source": [
    "print(\"Hello world\")"
   ]
  },
  {
   "cell_type": "markdown",
   "metadata": {},
   "source": [
    "## Print statement is executed one after another and you can use it to output shapes.}"
   ]
  },
  {
   "cell_type": "code",
   "execution_count": 2,
   "metadata": {
    "scrolled": true
   },
   "outputs": [
    {
     "name": "stdout",
     "output_type": "stream",
     "text": [
      "I\n",
      "really\n",
      "would\n",
      "love \n",
      "to\n",
      "see\n",
      "your\n",
      "dick.\n"
     ]
    }
   ],
   "source": [
    "print(\"I\")\n",
    "print(\"really\")\n",
    "print(\"would\")\n",
    "print(\"love \")\n",
    "print(\"to\")\n",
    "print(\"see\")\n",
    "print(\"your\")\n",
    "print(\"dick.\")"
   ]
  },
  {
   "cell_type": "markdown",
   "metadata": {},
   "source": [
    "## Changing the order of print statements would change the format of print statements."
   ]
  },
  {
   "cell_type": "code",
   "execution_count": 3,
   "metadata": {
    "scrolled": true
   },
   "outputs": [
    {
     "name": "stdout",
     "output_type": "stream",
     "text": [
      "dick.\n",
      "I\n",
      "really\n",
      "would\n",
      "love \n",
      "to\n",
      "see\n",
      "your\n"
     ]
    }
   ],
   "source": [
    "print(\"dick.\")\n",
    "print(\"I\")\n",
    "print(\"really\")\n",
    "print(\"would\")\n",
    "print(\"love \")\n",
    "print(\"to\")\n",
    "print(\"see\")\n",
    "print(\"your\")\n"
   ]
  },
  {
   "cell_type": "markdown",
   "metadata": {},
   "source": [
    "## so the order determines the execution"
   ]
  },
  {
   "cell_type": "markdown",
   "metadata": {},
   "source": [
    "## 1. Variables - containers that hold the values."
   ]
  },
  {
   "cell_type": "code",
   "execution_count": 7,
   "metadata": {},
   "outputs": [
    {
     "name": "stdout",
     "output_type": "stream",
     "text": [
      "lodold etyeyg stsyu\n"
     ]
    }
   ],
   "source": [
    "het = \"etyeyg\"\n",
    "print(\"lodold \" +het+ \" stsyu\")"
   ]
  },
  {
   "cell_type": "markdown",
   "metadata": {},
   "source": [
    "### Variables can be text,numbers,boolean values"
   ]
  },
  {
   "cell_type": "code",
   "execution_count": 13,
   "metadata": {},
   "outputs": [
    {
     "name": "stdout",
     "output_type": "stream",
     "text": [
      "True\n"
     ]
    }
   ],
   "source": [
    "t = 5\n",
    "o = 5.52\n",
    "e = \"catch a rhyme\"\n",
    "tr = True\n",
    "print(tr )"
   ]
  },
  {
   "cell_type": "markdown",
   "metadata": {},
   "source": [
    "### 1. strings \n",
    "### \\n is a character used to do various printing of the letters"
   ]
  },
  {
   "cell_type": "code",
   "execution_count": 15,
   "metadata": {},
   "outputs": [
    {
     "name": "stdout",
     "output_type": "stream",
     "text": [
      "catch a rhyme\n",
      "catch a \n",
      " rhyme\"\n"
     ]
    }
   ],
   "source": [
    "print(\"catch a rhyme\")\n",
    "print(\"catch a \\n rhyme\\\"\")\n"
   ]
  },
  {
   "cell_type": "markdown",
   "metadata": {},
   "source": [
    "### + is used for concatenation. .upper()/.lower() is used to convert to uppercase/lowercase. len(string) gives the lenghth of the string. String is indexed from 0."
   ]
  },
  {
   "cell_type": "code",
   "execution_count": 26,
   "metadata": {},
   "outputs": [
    {
     "name": "stdout",
     "output_type": "stream",
     "text": [
      "INDIA \n",
      "india \n",
      "False\n",
      "True\n",
      "6\n",
      "I\n",
      "2\n",
      "3\n",
      "Indian \n"
     ]
    }
   ],
   "source": [
    "pot = \"India \"\n",
    "print(pot.upper())\n",
    "print(pot.lower())\n",
    "print(pot.isupper())\n",
    "print(pot.upper().isupper())\n",
    "print(len(pot))\n",
    "print(pot[0])\n",
    "print(pot.index(\"d\"))\n",
    "print(pot.index(\"ia\"))\n",
    "print(pot.replace(\"ia\",\"ian\"))"
   ]
  },
  {
   "cell_type": "markdown",
   "metadata": {},
   "source": [
    "### 2. Numbers"
   ]
  },
  {
   "cell_type": "code",
   "execution_count": 27,
   "metadata": {},
   "outputs": [
    {
     "name": "stdout",
     "output_type": "stream",
     "text": [
      "5\n",
      "7.89\n",
      "666.66\n",
      "69\n"
     ]
    }
   ],
   "source": [
    "print(5)\n",
    "print(7.89)\n",
    "print(666.66)\n",
    "print(70-1)"
   ]
  },
  {
   "cell_type": "markdown",
   "metadata": {},
   "source": [
    "### In case of multiple operators bodmass rule is followed"
   ]
  },
  {
   "cell_type": "code",
   "execution_count": 31,
   "metadata": {},
   "outputs": [
    {
     "name": "stdout",
     "output_type": "stream",
     "text": [
      "10.0\n",
      "0.4\n",
      "2\n"
     ]
    }
   ],
   "source": [
    "print(4 / 2 + 8)\n",
    "print(4 / (2 + 8))\n",
    "print(12%5)"
   ]
  },
  {
   "cell_type": "code",
   "execution_count": 32,
   "metadata": {},
   "outputs": [
    {
     "name": "stdout",
     "output_type": "stream",
     "text": [
      "12\n",
      "-8\n",
      "0.2\n",
      "20\n",
      "2\n"
     ]
    }
   ],
   "source": [
    "a = 2\n",
    "b = 10\n",
    "print(a+b)\n",
    "print(a-b)\n",
    "print(a/b)\n",
    "print(a*b)\n",
    "print(a%b)"
   ]
  },
  {
   "cell_type": "markdown",
   "metadata": {},
   "source": [
    "### Note: Printing an integer with a string will give an error. therefore use string(var) to dconvert int to string first."
   ]
  },
  {
   "cell_type": "code",
   "execution_count": 35,
   "metadata": {},
   "outputs": [
    {
     "name": "stdout",
     "output_type": "stream",
     "text": [
      "2 is the number of thumbs rithik roshan has\n"
     ]
    }
   ],
   "source": [
    "print(str(a)+ \" is the number of thumbs rithik roshan has\")"
   ]
  },
  {
   "cell_type": "code",
   "execution_count": 42,
   "metadata": {},
   "outputs": [
    {
     "name": "stdout",
     "output_type": "stream",
     "text": [
      "5\n",
      "25\n",
      "2\n",
      "5\n"
     ]
    }
   ],
   "source": [
    "print(abs(-5))\n",
    "print(pow(-5,2))\n",
    "print(max(-5,2))\n",
    "print(round(5.44))"
   ]
  },
  {
   "cell_type": "markdown",
   "metadata": {},
   "source": [
    "### using math function"
   ]
  },
  {
   "cell_type": "code",
   "execution_count": 45,
   "metadata": {},
   "outputs": [
    {
     "name": "stdout",
     "output_type": "stream",
     "text": [
      "2\n",
      "3\n",
      "6.0\n"
     ]
    }
   ],
   "source": [
    "from math import *\n",
    "print(floor(2.6))\n",
    "print(ceil(2.6))\n",
    "print(sqrt(36))"
   ]
  },
  {
   "cell_type": "markdown",
   "metadata": {},
   "source": [
    "### Taking input from a user"
   ]
  },
  {
   "cell_type": "code",
   "execution_count": 47,
   "metadata": {},
   "outputs": [
    {
     "name": "stdout",
     "output_type": "stream",
     "text": [
      "enter your name: ron\n",
      "ron you are gay\n"
     ]
    }
   ],
   "source": [
    "x = input(\"enter your name: \")\n",
    "print(x + \" you are gay\")"
   ]
  },
  {
   "cell_type": "markdown",
   "metadata": {},
   "source": [
    "### THE 69 CALCULATOR"
   ]
  },
  {
   "cell_type": "code",
   "execution_count": 58,
   "metadata": {},
   "outputs": [
    {
     "name": "stdout",
     "output_type": "stream",
     "text": [
      "enter your number1 5.01\n",
      "enter your number2 6.01\n",
      "5.016.01\n",
      "11.02\n"
     ]
    }
   ],
   "source": [
    "g = input(\"enter your number1 \")\n",
    "p = input(\"enter your number2 \")\n",
    "print(g+p)\n",
    "print(int(g)+int(p))\n",
    "print(float(g)+float(p))\n"
   ]
  },
  {
   "cell_type": "markdown",
   "metadata": {},
   "source": [
    "### A madlib game"
   ]
  },
  {
   "cell_type": "code",
   "execution_count": 61,
   "metadata": {},
   "outputs": [
    {
     "name": "stdout",
     "output_type": "stream",
     "text": [
      "Enter your name hio\n",
      "your from Incj\n",
      "Incj is my contry\n",
      "My name ishio\n"
     ]
    }
   ],
   "source": [
    "name = input(\"Enter your name \")\n",
    "contry = input(\"your from \")\n",
    "\n",
    "print(contry + \" is my contry\")\n",
    "print(\"My name is\" + name)"
   ]
  },
  {
   "cell_type": "markdown",
   "metadata": {},
   "source": [
    "# Lists.\n",
    "### Represented by a = [element1 , element2 , ....] . elements can be of same or different datatypes. Indexed from 0. Using negative indexes the ;ist from reverse"
   ]
  },
  {
   "cell_type": "code",
   "execution_count": 110,
   "metadata": {},
   "outputs": [
    {
     "name": "stdout",
     "output_type": "stream",
     "text": [
      "man\n",
      "divj\n",
      "5.0\n",
      "man\n",
      "5.0\n",
      "divj\n",
      "65\n"
     ]
    }
   ],
   "source": [
    "q = [\"man\", 5.0, \"divj\"]\n",
    "print(q[0])\n",
    "print(q[2])\n",
    "print(q[1])\n",
    "print(q[-0])\n",
    "print(q[-2])\n",
    "print(q[-1])\n",
    "\n",
    "\n",
    "q[2]= 65\n",
    "print(q[2])"
   ]
  },
  {
   "cell_type": "markdown",
   "metadata": {},
   "source": [
    "### .extend is used to append 2 lists. .append is used to append elements to the back of the list. .insert(index,element) is going to append or insert the element at the specified index. .pop() removes the last element"
   ]
  },
  {
   "cell_type": "code",
   "execution_count": 111,
   "metadata": {},
   "outputs": [
    {
     "name": "stdout",
     "output_type": "stream",
     "text": [
      "[69, 2]\n",
      "['man', 5.0, 65]\n",
      "['man', 5.0, 65, 69, 2]\n"
     ]
    }
   ],
   "source": [
    "n = [ 69 , 2]\n",
    "print(n)\n",
    "print(q)\n",
    "q.extend(n)\n",
    "print(q)"
   ]
  },
  {
   "cell_type": "code",
   "execution_count": 112,
   "metadata": {},
   "outputs": [
    {
     "name": "stdout",
     "output_type": "stream",
     "text": [
      "['man', 5.0, 65, 69, 2, 'Babuisgay']\n",
      "['man', 5.0, 'lod', 65, 69, 2, 'Babuisgay']\n",
      "['man', 5.0, 65, 69, 2, 'Babuisgay']\n",
      "5\n",
      "['man', 5.0, 65, 69, 2]\n",
      "['a', 'c', 'fd', 'as', 'de']\n",
      "None\n",
      "[2, 69, 65, 5.0, 'man']\n",
      "[]\n",
      "['a', 'as', 'c', 'de', 'fd']\n"
     ]
    }
   ],
   "source": [
    "q.append(\"Babuisgay\")\n",
    "print(q)\n",
    "q.insert(2,\"lod\")\n",
    "print(q)\n",
    "q.remove(\"lod\")\n",
    "print(q)\n",
    "print(q.index(\"Babuisgay\"))\n",
    "q.pop()\n",
    "print(q)\n",
    "g = [\"a\",\"c\",\"fd\", \"as\",\"de\"]\n",
    "print(g)\n",
    "print(g.sort())\n",
    "q.reverse()\n",
    "print(q)\n",
    "q.clear()\n",
    "print(q)\n",
    "a = g.copy()\n",
    "print(a)"
   ]
  },
  {
   "cell_type": "markdown",
   "metadata": {},
   "source": [
    "## Tuples.\n",
    "###  basically used to store coordinates. It is inmutable( once created the value cannot be changed)"
   ]
  },
  {
   "cell_type": "code",
   "execution_count": 118,
   "metadata": {},
   "outputs": [
    {
     "name": "stdout",
     "output_type": "stream",
     "text": [
      "(4, 5)\n",
      "5\n"
     ]
    },
    {
     "ename": "TypeError",
     "evalue": "'tuple' object does not support item assignment",
     "output_type": "error",
     "traceback": [
      "\u001b[1;31m---------------------------------------------------------------------------\u001b[0m",
      "\u001b[1;31mTypeError\u001b[0m                                 Traceback (most recent call last)",
      "\u001b[1;32m<ipython-input-118-15a8b8016578>\u001b[0m in \u001b[0;36m<module>\u001b[1;34m\u001b[0m\n\u001b[0;32m      2\u001b[0m \u001b[0mprint\u001b[0m\u001b[1;33m(\u001b[0m\u001b[0ma\u001b[0m\u001b[1;33m)\u001b[0m\u001b[1;33m\u001b[0m\u001b[1;33m\u001b[0m\u001b[0m\n\u001b[0;32m      3\u001b[0m \u001b[0mprint\u001b[0m\u001b[1;33m(\u001b[0m\u001b[0ma\u001b[0m\u001b[1;33m[\u001b[0m\u001b[1;36m1\u001b[0m\u001b[1;33m]\u001b[0m\u001b[1;33m)\u001b[0m\u001b[1;33m\u001b[0m\u001b[1;33m\u001b[0m\u001b[0m\n\u001b[1;32m----> 4\u001b[1;33m \u001b[0ma\u001b[0m\u001b[1;33m[\u001b[0m\u001b[1;36m1\u001b[0m\u001b[1;33m]\u001b[0m \u001b[1;33m=\u001b[0m \u001b[1;36m4\u001b[0m\u001b[1;33m\u001b[0m\u001b[1;33m\u001b[0m\u001b[0m\n\u001b[0m",
      "\u001b[1;31mTypeError\u001b[0m: 'tuple' object does not support item assignment"
     ]
    }
   ],
   "source": [
    "a = (4,5)\n",
    "print(a)\n",
    "print(a[1])\n",
    "a[1] = 4"
   ]
  },
  {
   "cell_type": "markdown",
   "metadata": {},
   "source": [
    "## List of tuples"
   ]
  },
  {
   "cell_type": "code",
   "execution_count": 122,
   "metadata": {},
   "outputs": [
    {
     "name": "stdout",
     "output_type": "stream",
     "text": [
      "(8, 6)\n",
      "(6, 5)\n",
      "[(4, 5), (3, 2), (6, 5)]\n"
     ]
    }
   ],
   "source": [
    "e = [(4,5),(3,2),(8,6)]\n",
    "print(e[2])\n",
    "e[2] = (6,5)\n",
    "print(e[2])\n",
    "print(e)"
   ]
  },
  {
   "cell_type": "markdown",
   "metadata": {},
   "source": [
    "## Functions.\n",
    "### Collection of code for a spevific task. synatax: def func_name():\n",
    "### Note: Only indented code is to be considered in a function. The function name must be all lowercase \\ no space"
   ]
  },
  {
   "cell_type": "code",
   "execution_count": 125,
   "metadata": {},
   "outputs": [
    {
     "name": "stdout",
     "output_type": "stream",
     "text": [
      "hi\n",
      "PKMKB\n",
      "CKMKB\n"
     ]
    }
   ],
   "source": [
    "def ine_hd():\n",
    "    print(\"PKMKB\")\n",
    "    print(\"CKMKB\")\n",
    "print(\"hi\")\n",
    "\n",
    "ine_hd()"
   ]
  },
  {
   "cell_type": "markdown",
   "metadata": {},
   "source": [
    "### Parameter is a piece of information that we give to the function"
   ]
  },
  {
   "cell_type": "code",
   "execution_count": 129,
   "metadata": {},
   "outputs": [
    {
     "name": "stdout",
     "output_type": "stream",
     "text": [
      "whats your name? babu\n",
      "babu you are gay hehe:)\n"
     ]
    }
   ],
   "source": [
    "def calls_you_gay(name,ino):\n",
    "    print(name + \" you are gay \"+ ino)\n",
    "poi = input(\"whats your name? \")\n",
    "calls_you_gay(poi,\"hehe:)\")"
   ]
  },
  {
   "cell_type": "markdown",
   "metadata": {},
   "source": [
    "### Return statement returns a value from the function. Any code after return statement is excluded from the function"
   ]
  },
  {
   "cell_type": "code",
   "execution_count": 135,
   "metadata": {},
   "outputs": [
    {
     "name": "stdout",
     "output_type": "stream",
     "text": [
      "enter a no 5\n",
      "25\n"
     ]
    }
   ],
   "source": [
    "def square(a):\n",
    "    b = a*a\n",
    "    return(b)\n",
    "    print(\"success\")\n",
    "    \n",
    "no = input(\"enter a no \")\n",
    "n = int(no)\n",
    "s = square(n)\n",
    "print(s)"
   ]
  },
  {
   "cell_type": "markdown",
   "metadata": {},
   "source": [
    "## IF Statements"
   ]
  },
  {
   "cell_type": "code",
   "execution_count": null,
   "metadata": {},
   "outputs": [],
   "source": []
  }
 ],
 "metadata": {
  "kernelspec": {
   "display_name": "Python 3",
   "language": "python",
   "name": "python3"
  },
  "language_info": {
   "codemirror_mode": {
    "name": "ipython",
    "version": 3
   },
   "file_extension": ".py",
   "mimetype": "text/x-python",
   "name": "python",
   "nbconvert_exporter": "python",
   "pygments_lexer": "ipython3",
   "version": "3.8.5"
  }
 },
 "nbformat": 4,
 "nbformat_minor": 4
}
